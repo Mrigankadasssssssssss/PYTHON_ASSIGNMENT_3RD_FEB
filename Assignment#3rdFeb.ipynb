{
 "cells": [
  {
   "cell_type": "markdown",
   "id": "0a96611e-b59a-4717-9f8a-e0d95c55e470",
   "metadata": {},
   "source": [
    "# Python assignment"
   ]
  },
  {
   "cell_type": "markdown",
   "id": "ef610559-8edb-4f64-8509-e7d76f32c8de",
   "metadata": {},
   "source": [
    "Q1. Which keyword is used to create a function? Create a function to return a list of odd numbers in the\n",
    "range of 1 to 25."
   ]
  },
  {
   "cell_type": "markdown",
   "id": "40b5fdce-9766-4b05-8438-9c98a48134c4",
   "metadata": {},
   "source": [
    "ans. 'def' keyword is used"
   ]
  },
  {
   "cell_type": "code",
   "execution_count": 1,
   "id": "85dd6cc8-c93c-451d-9f24-03a6695194a3",
   "metadata": {},
   "outputs": [
    {
     "data": {
      "text/plain": [
       "[1,\n",
       " 2,\n",
       " 3,\n",
       " 4,\n",
       " 5,\n",
       " 6,\n",
       " 7,\n",
       " 8,\n",
       " 9,\n",
       " 10,\n",
       " 11,\n",
       " 12,\n",
       " 13,\n",
       " 14,\n",
       " 15,\n",
       " 16,\n",
       " 17,\n",
       " 18,\n",
       " 19,\n",
       " 20,\n",
       " 21,\n",
       " 22,\n",
       " 23,\n",
       " 24,\n",
       " 25]"
      ]
     },
     "execution_count": 1,
     "metadata": {},
     "output_type": "execute_result"
    }
   ],
   "source": [
    "l=[]\n",
    "for i in range(1,26):\n",
    "    l.append(i)\n",
    "l"
   ]
  },
  {
   "cell_type": "code",
   "execution_count": 7,
   "id": "71e8d908-8f6c-4598-98d0-242a9fb6ee7d",
   "metadata": {},
   "outputs": [],
   "source": [
    "def ODD(l1):\n",
    "    l1 = []\n",
    "    for i in l:\n",
    "        if i%2 != 0:\n",
    "            l1.append(i)\n",
    "    return l1"
   ]
  },
  {
   "cell_type": "code",
   "execution_count": null,
   "id": "af763c7e-b28c-4ab1-91f8-97c59636921b",
   "metadata": {},
   "outputs": [],
   "source": []
  },
  {
   "cell_type": "code",
   "execution_count": 9,
   "id": "3f77c8be-49df-4341-999d-0a4adfd93879",
   "metadata": {},
   "outputs": [
    {
     "data": {
      "text/plain": [
       "[1, 3, 5, 7, 9, 11, 13, 15, 17, 19, 21, 23, 25]"
      ]
     },
     "execution_count": 9,
     "metadata": {},
     "output_type": "execute_result"
    }
   ],
   "source": [
    "ODD(l)"
   ]
  },
  {
   "cell_type": "markdown",
   "id": "edae88e5-653c-4cba-9bae-069ac96512e7",
   "metadata": {},
   "source": [
    "Q2.Why *args and **kwargs is used in some functions? Create a function each for *args and **kwargs\n",
    "to demonstrate their use."
   ]
  },
  {
   "cell_type": "markdown",
   "id": "74fe7a84-2e04-4310-ae7f-1f7e9067dd21",
   "metadata": {},
   "source": [
    "ans. *args is used for taking multiple input in function  and **kwargs is used to take multiple key value inputs\n",
    "(which is dictionary type)"
   ]
  },
  {
   "cell_type": "code",
   "execution_count": 10,
   "id": "a84328a8-b569-4e98-9385-63151b39e2e9",
   "metadata": {},
   "outputs": [],
   "source": [
    "# use *args\n",
    "def test1(*args):\n",
    "    return args"
   ]
  },
  {
   "cell_type": "code",
   "execution_count": 11,
   "id": "554c76fc-8e01-4160-bd7c-0ed85e4aaf04",
   "metadata": {},
   "outputs": [
    {
     "data": {
      "text/plain": [
       "(54, 65, 9, 3, 2, 'mriganka', 'data_science', 'project')"
      ]
     },
     "execution_count": 11,
     "metadata": {},
     "output_type": "execute_result"
    }
   ],
   "source": [
    "test1(54,65,9,3,2,'mriganka','data_science','project')"
   ]
  },
  {
   "cell_type": "code",
   "execution_count": 12,
   "id": "6374de06-4f6e-4b7a-8c29-287eb24d99e6",
   "metadata": {},
   "outputs": [],
   "source": [
    "# use of **kwargs"
   ]
  },
  {
   "cell_type": "code",
   "execution_count": 13,
   "id": "a518e09c-50a9-454a-af4a-be8fc53e764b",
   "metadata": {},
   "outputs": [],
   "source": [
    "def test2(**kargs):\n",
    "    return kargs"
   ]
  },
  {
   "cell_type": "code",
   "execution_count": 14,
   "id": "ec189d71-9b32-4868-bce5-e7e9898fa8f3",
   "metadata": {},
   "outputs": [
    {
     "data": {
      "text/plain": [
       "{'a': [1, 2.3, 6, 9], 'b': 8.2, 'c': 9}"
      ]
     },
     "execution_count": 14,
     "metadata": {},
     "output_type": "execute_result"
    }
   ],
   "source": [
    "test2(a = [1,2.3,6,9], b = 8.2, c= 9)"
   ]
  },
  {
   "cell_type": "markdown",
   "id": "72bd5790-c049-4ce3-9162-56053057681c",
   "metadata": {},
   "source": [
    "Q3. What is an iterator in python? Name the method used to initialise the iterator object and the method\n",
    "used for iteration. Use these methods to print the first five elements of the given list [2, 4, 6, 8, 10, 12, 14,\n",
    "16, 18, 20]."
   ]
  },
  {
   "cell_type": "markdown",
   "id": "b6c511bc-79f9-4915-878b-42aadd87c795",
   "metadata": {},
   "source": [
    "ans.Iterator in Python is an object that is used to iterate over iterable objects like lists, tuples, dicts, and sets. The iterator object is initialized using the iter() method. It uses the next() method for iteration. __next__(): The next method returns the next value for the iterable."
   ]
  },
  {
   "cell_type": "code",
   "execution_count": 15,
   "id": "5d26edb1-e1eb-4698-90bf-08e74866dd9a",
   "metadata": {},
   "outputs": [],
   "source": [
    "l2 = [2, 4, 6, 8, 10, 12, 14, 16, 18, 20]"
   ]
  },
  {
   "cell_type": "code",
   "execution_count": 17,
   "id": "22cc5b53-59da-4dac-ad12-02a7524120e1",
   "metadata": {},
   "outputs": [
    {
     "name": "stdout",
     "output_type": "stream",
     "text": [
      "2\n",
      "4\n",
      "6\n",
      "8\n",
      "10\n"
     ]
    }
   ],
   "source": [
    "li_iterator = iter(l2)\n",
    "for i in range(5):\n",
    "    print(next(li_iterator))"
   ]
  },
  {
   "cell_type": "markdown",
   "id": "365c76f3-8e35-4a45-a046-0796d812c180",
   "metadata": {},
   "source": [
    "Q4. What is a generator function in python? Why yield keyword is used? Give an example of a generator\n",
    "function."
   ]
  },
  {
   "cell_type": "markdown",
   "id": "f4ca499b-83c1-4f48-a076-308f0908efc1",
   "metadata": {},
   "source": [
    "ans. In Python, a generator is a function that returns an iterator that produces a sequence of values when iterated over"
   ]
  },
  {
   "cell_type": "markdown",
   "id": "74425e1e-57aa-43ce-8c68-61ef97f699bd",
   "metadata": {},
   "source": [
    " yield keyword is used to create a generator function.e yield keyword will turn any expression that is given with it into a generator object and return it to the caller"
   ]
  },
  {
   "cell_type": "code",
   "execution_count": 19,
   "id": "e664edf8-6a0c-4322-a0d0-a5a7b30ce907",
   "metadata": {},
   "outputs": [],
   "source": [
    "def test_fib(n):\n",
    "    a,b = 0,1\n",
    "    for i in range(n):         # a = 0 b =1 \n",
    "        yield a                # a = 1 b = 1\n",
    "        a,b = b,a+b            # a = 1 b = 2\n",
    "                               # a = 2 b = 3\n",
    "                               # a = 3 b = 5 "
   ]
  },
  {
   "cell_type": "code",
   "execution_count": 20,
   "id": "9cef5d75-837c-4867-ac42-f2092fbdfc73",
   "metadata": {},
   "outputs": [
    {
     "name": "stdout",
     "output_type": "stream",
     "text": [
      "0\n",
      "1\n",
      "1\n",
      "2\n",
      "3\n"
     ]
    }
   ],
   "source": [
    "for i in test_fib(5):\n",
    "    print(i)"
   ]
  },
  {
   "cell_type": "markdown",
   "id": "e86283b0-887e-4dc8-ac66-3e0d7ccd35ba",
   "metadata": {},
   "source": [
    "Q5. Create a generator function for prime numbers less than 1000. Use the next() method to print the\n",
    "first 20 prime numbers."
   ]
  },
  {
   "cell_type": "code",
   "execution_count": 36,
   "id": "3b6aa1b0-726f-4a22-a74a-b8f666101ed8",
   "metadata": {},
   "outputs": [],
   "source": [
    "def test_prime():\n",
    "    for i in range(2,1000):\n",
    "        if i%2 != 0 and i%(i//2) != 0 and i == 2:\n",
    "            yield i\n",
    "            "
   ]
  },
  {
   "cell_type": "code",
   "execution_count": 37,
   "id": "f7396601-139e-4152-bae6-76e201d141b7",
   "metadata": {},
   "outputs": [],
   "source": [
    "prime = test_prime()"
   ]
  },
  {
   "cell_type": "code",
   "execution_count": 38,
   "id": "592b1896-25c2-4196-94e4-83997ebe2454",
   "metadata": {},
   "outputs": [
    {
     "ename": "StopIteration",
     "evalue": "",
     "output_type": "error",
     "traceback": [
      "\u001b[0;31m---------------------------------------------------------------------------\u001b[0m",
      "\u001b[0;31mStopIteration\u001b[0m                             Traceback (most recent call last)",
      "Cell \u001b[0;32mIn[38], line 2\u001b[0m\n\u001b[1;32m      1\u001b[0m \u001b[38;5;28;01mfor\u001b[39;00m i \u001b[38;5;129;01min\u001b[39;00m \u001b[38;5;28mrange\u001b[39m (\u001b[38;5;241m20\u001b[39m):\n\u001b[0;32m----> 2\u001b[0m     \u001b[38;5;28mprint\u001b[39m(\u001b[38;5;28;43mnext\u001b[39;49m\u001b[43m(\u001b[49m\u001b[43mprime\u001b[49m\u001b[43m)\u001b[49m)\n",
      "\u001b[0;31mStopIteration\u001b[0m: "
     ]
    }
   ],
   "source": [
    "for i in range (20):\n",
    "    print(next(prime))"
   ]
  },
  {
   "cell_type": "markdown",
   "id": "f0ee623b-bc29-4601-ab65-d613f375c41b",
   "metadata": {},
   "source": [
    "Q6. Write a python program to print the first 10 Fibonacci numbers using a while loop."
   ]
  },
  {
   "cell_type": "code",
   "execution_count": 40,
   "id": "67215b40-40bd-4990-9cf0-0597da3d4254",
   "metadata": {},
   "outputs": [
    {
     "name": "stdout",
     "output_type": "stream",
     "text": [
      "0\n",
      "1\n",
      "1\n",
      "2\n",
      "3\n",
      "5\n",
      "8\n",
      "13\n",
      "21\n",
      "34\n"
     ]
    }
   ],
   "source": [
    "num = 10\n",
    "a,b = 0,1\n",
    "count = 0\n",
    "while count<num:\n",
    "    print(a)\n",
    "    c = a+b\n",
    "    a = b\n",
    "    b = c\n",
    "    count = count+1"
   ]
  },
  {
   "cell_type": "markdown",
   "id": "4d55fd8f-df07-4100-b205-c78a794340e5",
   "metadata": {},
   "source": [
    "Q7. Write a List Comprehension to iterate through the given string: ‘pwskills’.\n",
    "Expected output: ['p', 'w', 's', 'k', 'i', 'l', 'l', 's']"
   ]
  },
  {
   "cell_type": "code",
   "execution_count": 41,
   "id": "a4e82464-9afd-4892-8806-59fc0302fae8",
   "metadata": {},
   "outputs": [
    {
     "data": {
      "text/plain": [
       "['p', 'w', 's', 'k', 'i', 'l', 'l', 's']"
      ]
     },
     "execution_count": 41,
     "metadata": {},
     "output_type": "execute_result"
    }
   ],
   "source": [
    "s = 'pwskills'\n",
    "[i for i in s]"
   ]
  },
  {
   "cell_type": "markdown",
   "id": "dd99d2fa-f4fd-40c7-959c-84f5ed5f34b2",
   "metadata": {},
   "source": [
    "Q8. Write a python program to check whether a given number is Palindrome or not using a while loop."
   ]
  },
  {
   "cell_type": "markdown",
   "id": "772dceee-55af-477b-92ed-7d7b385df1d2",
   "metadata": {},
   "source": [
    "Q8. Write a python program to check whether a given number is Palindrome or not using a while loop."
   ]
  },
  {
   "cell_type": "code",
   "execution_count": 42,
   "id": "bc88887a-9417-4355-baf6-467642f1d6a7",
   "metadata": {},
   "outputs": [
    {
     "name": "stdin",
     "output_type": "stream",
     "text": [
      "Enter the value:  121\n"
     ]
    },
    {
     "name": "stdout",
     "output_type": "stream",
     "text": [
      "It is palindrome\n"
     ]
    }
   ],
   "source": [
    "num = int(input(\"Enter the value: \"))\n",
    "temp = num\n",
    "rev = 0\n",
    "while num>0:\n",
    "    dig = num%10\n",
    "    rev = rev*10+dig\n",
    "    num = num//10\n",
    "if temp == rev:\n",
    "    print('It is palindrome')\n",
    "else:\n",
    "    print('not palindrome')"
   ]
  },
  {
   "cell_type": "markdown",
   "id": "f4073f6a-710b-452d-9e00-91e7dfa4f2fc",
   "metadata": {},
   "source": [
    "Q9. Write a code to print odd numbers from 1 to 100 using list comprehension.\n",
    "Note: Use a list comprehension to create a list from 1 to 100 and use another List comprehension to filter\n",
    "out odd numbers."
   ]
  },
  {
   "cell_type": "code",
   "execution_count": 45,
   "id": "796357ff-bf56-4654-b51f-850032f2ddd1",
   "metadata": {},
   "outputs": [],
   "source": [
    "l4 = [i for i in range(1,101)]"
   ]
  },
  {
   "cell_type": "code",
   "execution_count": 46,
   "id": "7c6efe96-0f56-4a63-b326-8c0abf712ddc",
   "metadata": {},
   "outputs": [
    {
     "data": {
      "text/plain": [
       "[1,\n",
       " 2,\n",
       " 3,\n",
       " 4,\n",
       " 5,\n",
       " 6,\n",
       " 7,\n",
       " 8,\n",
       " 9,\n",
       " 10,\n",
       " 11,\n",
       " 12,\n",
       " 13,\n",
       " 14,\n",
       " 15,\n",
       " 16,\n",
       " 17,\n",
       " 18,\n",
       " 19,\n",
       " 20,\n",
       " 21,\n",
       " 22,\n",
       " 23,\n",
       " 24,\n",
       " 25,\n",
       " 26,\n",
       " 27,\n",
       " 28,\n",
       " 29,\n",
       " 30,\n",
       " 31,\n",
       " 32,\n",
       " 33,\n",
       " 34,\n",
       " 35,\n",
       " 36,\n",
       " 37,\n",
       " 38,\n",
       " 39,\n",
       " 40,\n",
       " 41,\n",
       " 42,\n",
       " 43,\n",
       " 44,\n",
       " 45,\n",
       " 46,\n",
       " 47,\n",
       " 48,\n",
       " 49,\n",
       " 50,\n",
       " 51,\n",
       " 52,\n",
       " 53,\n",
       " 54,\n",
       " 55,\n",
       " 56,\n",
       " 57,\n",
       " 58,\n",
       " 59,\n",
       " 60,\n",
       " 61,\n",
       " 62,\n",
       " 63,\n",
       " 64,\n",
       " 65,\n",
       " 66,\n",
       " 67,\n",
       " 68,\n",
       " 69,\n",
       " 70,\n",
       " 71,\n",
       " 72,\n",
       " 73,\n",
       " 74,\n",
       " 75,\n",
       " 76,\n",
       " 77,\n",
       " 78,\n",
       " 79,\n",
       " 80,\n",
       " 81,\n",
       " 82,\n",
       " 83,\n",
       " 84,\n",
       " 85,\n",
       " 86,\n",
       " 87,\n",
       " 88,\n",
       " 89,\n",
       " 90,\n",
       " 91,\n",
       " 92,\n",
       " 93,\n",
       " 94,\n",
       " 95,\n",
       " 96,\n",
       " 97,\n",
       " 98,\n",
       " 99,\n",
       " 100]"
      ]
     },
     "execution_count": 46,
     "metadata": {},
     "output_type": "execute_result"
    }
   ],
   "source": [
    "l4"
   ]
  },
  {
   "cell_type": "code",
   "execution_count": 47,
   "id": "55071e46-b14d-4bbd-b4ce-388ced8b88a5",
   "metadata": {},
   "outputs": [
    {
     "data": {
      "text/plain": [
       "[1,\n",
       " 3,\n",
       " 5,\n",
       " 7,\n",
       " 9,\n",
       " 11,\n",
       " 13,\n",
       " 15,\n",
       " 17,\n",
       " 19,\n",
       " 21,\n",
       " 23,\n",
       " 25,\n",
       " 27,\n",
       " 29,\n",
       " 31,\n",
       " 33,\n",
       " 35,\n",
       " 37,\n",
       " 39,\n",
       " 41,\n",
       " 43,\n",
       " 45,\n",
       " 47,\n",
       " 49,\n",
       " 51,\n",
       " 53,\n",
       " 55,\n",
       " 57,\n",
       " 59,\n",
       " 61,\n",
       " 63,\n",
       " 65,\n",
       " 67,\n",
       " 69,\n",
       " 71,\n",
       " 73,\n",
       " 75,\n",
       " 77,\n",
       " 79,\n",
       " 81,\n",
       " 83,\n",
       " 85,\n",
       " 87,\n",
       " 89,\n",
       " 91,\n",
       " 93,\n",
       " 95,\n",
       " 97,\n",
       " 99]"
      ]
     },
     "execution_count": 47,
     "metadata": {},
     "output_type": "execute_result"
    }
   ],
   "source": [
    "list(filter(lambda x:x%2!=0,l4))"
   ]
  },
  {
   "cell_type": "code",
   "execution_count": null,
   "id": "d6588f28-efa7-4d7b-bb30-378787cfb7fd",
   "metadata": {},
   "outputs": [],
   "source": []
  }
 ],
 "metadata": {
  "kernelspec": {
   "display_name": "Python 3 (ipykernel)",
   "language": "python",
   "name": "python3"
  },
  "language_info": {
   "codemirror_mode": {
    "name": "ipython",
    "version": 3
   },
   "file_extension": ".py",
   "mimetype": "text/x-python",
   "name": "python",
   "nbconvert_exporter": "python",
   "pygments_lexer": "ipython3",
   "version": "3.10.8"
  }
 },
 "nbformat": 4,
 "nbformat_minor": 5
}
